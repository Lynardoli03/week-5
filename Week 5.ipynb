{
 "cells": [
  {
   "cell_type": "markdown",
   "id": "731fc45a",
   "metadata": {},
   "source": [
    "# Algorithm Workbench problem 1\n",
    "write a function named times_ten. The function should accept an argument and display the product of its argument multiplied times ten"
   ]
  },
  {
   "cell_type": "code",
   "execution_count": 2,
   "id": "9bc1a04c",
   "metadata": {},
   "outputs": [],
   "source": [
    "def times_ten (number): # I assigned my function to a name and order wich is times_ten\n",
    "    result = number * 10 # this ensures that whatever number I type in, it will get multiplied by ten\n",
    "    print(result)\n",
    "    #EX\n",
    "    times_ten(7)# this will output 70"
   ]
  },
  {
   "cell_type": "markdown",
   "id": "e5297926",
   "metadata": {},
   "source": [
    "# Probelm #6\n",
    "Write a statement that generates a random number in the range of 1 through 100 and assigns it to a variable named rand"
   ]
  },
  {
   "cell_type": "code",
   "execution_count": 4,
   "id": "9a461323",
   "metadata": {},
   "outputs": [
    {
     "name": "stdout",
     "output_type": "stream",
     "text": [
      "74\n"
     ]
    }
   ],
   "source": [
    "import random # This will introduce the random function into my code \n",
    "rand = random.randint(1, 100) # I defined my variable as a random number from 1 to 100\n",
    "print (rand)# this will give me/print out the random number"
   ]
  },
  {
   "cell_type": "markdown",
   "id": "108fedba",
   "metadata": {},
   "source": [
    "# Programming exercises problem 1\n",
    "Write a program that asks the user to enter a distance in kilometers, then uses a function to convert that distance to miles"
   ]
  },
  {
   "cell_type": "code",
   "execution_count": 8,
   "id": "c92be100",
   "metadata": {},
   "outputs": [
    {
     "name": "stdout",
     "output_type": "stream",
     "text": [
      "Enter distance in kilometers:5\n",
      "The distance in miles is: 3.11\n"
     ]
    }
   ],
   "source": [
    "def kilometers_to_miles(kilometers): # I assigned my variable to something and named it\n",
    "    miles = kilometers * 0.6214\n",
    "    return miles\n",
    "\n",
    "def main(): # I am telling the user to enter a distance in kilometers\n",
    "    kilometers = float(input(\"Enter distance in kilometers:\"))\n",
    "    miles = kilometers_to_miles(kilometers)# I am converting kilometers to miles\n",
    "    \n",
    "    print(f\"The distance in miles is: {miles:.2f}\") # I am showing the distance in miles\n",
    "if __name__ == \"__main__\":   # This line ensures my program will run\n",
    "            main()\n",
    "    "
   ]
  },
  {
   "cell_type": "markdown",
   "id": "d8cc8275",
   "metadata": {},
   "source": [
    "# Problem #16\n",
    "Write a boolean function named is_prime which takes an integer as an argument and returns true if the argument is a prime number, or false otherwise. use the function in a program that prompts the user to enter a number then displays a message indicating whether the number is prime"
   ]
  },
  {
   "cell_type": "code",
   "execution_count": 13,
   "id": "d0a5155f",
   "metadata": {},
   "outputs": [
    {
     "name": "stdout",
     "output_type": "stream",
     "text": [
      "Enter a number:9\n",
      "9 is a prime number.\n"
     ]
    }
   ],
   "source": [
    "def is_prime(number):   # I assigned my function to a name\n",
    "    if number < 2:\n",
    "        return False\n",
    "    for i in range (2, int(number**0.5) + 1):\n",
    "        if number % i == 0:\n",
    "            return False\n",
    "        return True\n",
    "\n",
    "def main():\n",
    "    number = int(input(\"Enter a number:\")) # I instructed the user to enter a number\n",
    "    if is_prime(number):\n",
    "        print (f\"{number} is a prime number.\")\n",
    "    else:\n",
    "        print (f\"{number} is not a prime number.\")\n",
    "\n",
    "if __name__ == \"__main__\":  # This will run my function\n",
    "    main()"
   ]
  },
  {
   "cell_type": "markdown",
   "id": "66ca78f9",
   "metadata": {},
   "source": [
    "# Problem 17\n",
    "Write another program that displays all of the prime numbers from 1 to 100. The program should have a loop that calls the is_prime function"
   ]
  },
  {
   "cell_type": "code",
   "execution_count": 17,
   "id": "631fe777",
   "metadata": {},
   "outputs": [],
   "source": [
    "def is_prime (number):\n",
    "    if number < 2:\n",
    "        return False\n",
    "    for i in range (2, int(number **0.5) + 1):\n",
    "        if number % i == 0:\n",
    "            return False\n",
    "    return True       # I kept some things the same from the previous question\n",
    "def display_primes_up_to_100():\n",
    "    print (\"prime numbers from 1 to 100:\")\n",
    "    for numbers in range (1, 101):\n",
    "        if is_prime(number): #This will print all prime numbers from 1 to 100\n",
    "            print (number, end = '')\n",
    "        print()\n",
    "    if __name__ == \"__main__\":\n",
    "        display_primes_up_to_100()"
   ]
  },
  {
   "cell_type": "code",
   "execution_count": null,
   "id": "997f6ed4",
   "metadata": {},
   "outputs": [],
   "source": []
  }
 ],
 "metadata": {
  "kernelspec": {
   "display_name": "Python 3 (ipykernel)",
   "language": "python",
   "name": "python3"
  },
  "language_info": {
   "codemirror_mode": {
    "name": "ipython",
    "version": 3
   },
   "file_extension": ".py",
   "mimetype": "text/x-python",
   "name": "python",
   "nbconvert_exporter": "python",
   "pygments_lexer": "ipython3",
   "version": "3.11.7"
  }
 },
 "nbformat": 4,
 "nbformat_minor": 5
}
